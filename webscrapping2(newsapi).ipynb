{
 "cells": [
  {
   "cell_type": "code",
   "execution_count": 1,
   "metadata": {},
   "outputs": [],
   "source": [
    "import urllib.request as urlr\n",
    "req=\"http://newsapi.org/v2/top-headlines?country=in&category=entertainment&apiKey=4eaaea65f7354cc68057e2c582dac038\""
   ]
  },
  {
   "cell_type": "code",
   "execution_count": 2,
   "metadata": {},
   "outputs": [],
   "source": [
    "raw=urlr.urlopen(req)"
   ]
  },
  {
   "cell_type": "code",
   "execution_count": 3,
   "metadata": {},
   "outputs": [],
   "source": [
    "#print(raw.read()) #Data shown in json format"
   ]
  },
  {
   "cell_type": "code",
   "execution_count": 4,
   "metadata": {},
   "outputs": [],
   "source": [
    "import json"
   ]
  },
  {
   "cell_type": "code",
   "execution_count": 5,
   "metadata": {},
   "outputs": [
    {
     "name": "stdout",
     "output_type": "stream",
     "text": [
      "Disabled bullying victim from heartbreaking viral video leads out all-star rugby team as support floods in - indy100\n"
     ]
    }
   ],
   "source": [
    "myjason=raw.read()\n",
    "data=json.loads(myjason.decode())\n",
    "#decode() converts json data format to string data format\n",
    "print(data['articles'][0]['title'])\n",
    "#json.loads() accept only string data format"
   ]
  },
  {
   "cell_type": "code",
   "execution_count": 6,
   "metadata": {},
   "outputs": [
    {
     "name": "stdout",
     "output_type": "stream",
     "text": [
      "Disabled bullying victim from heartbreaking viral video leads out all-star rugby team as support floods in - indy100\n"
     ]
    }
   ],
   "source": [
    "print(data['articles'][0]['title'])"
   ]
  },
  {
   "cell_type": "code",
   "execution_count": 7,
   "metadata": {},
   "outputs": [
    {
     "name": "stdout",
     "output_type": "stream",
     "text": [
      "Headline 1is:\n",
      "Disabled bullying victim from heartbreaking viral video leads out all-star rugby team as support floods in - indy100\n",
      "Headline 2is:\n",
      "The Batman: Robert Pattinson’s Batsuit and Zoe Kravitz's Catwoman look leaked online - Times of India\n",
      "Headline 3is:\n",
      "Dance Plus 5 grand finale: Shraddha dances with Mithun, Tiger shakes a leg with Dharmesh - India Today\n",
      "Headline 4is:\n",
      "Aamir Khan urges Chinese fans to take precautions, follow government instructions amid coronavirus outbreak.... - Hindustan Times\n",
      "Headline 5is:\n",
      "Kiara's pic from Dabboo Ratnani calendar gets called out for plagiarism by international photographer - India Today\n"
     ]
    }
   ],
   "source": [
    "for i in range(0,5):\n",
    "    print(\"Headline \"+str(i+1)+\"is:\")\n",
    "    print(data['articles'][i]['title'])"
   ]
  },
  {
   "cell_type": "code",
   "execution_count": 8,
   "metadata": {},
   "outputs": [
    {
     "name": "stdout",
     "output_type": "stream",
     "text": [
      "Description 1is:\n",
      "\n",
      "\n",
      "Content is:\n",
      "Sometimes stories have happy endings.\r\n",
      "In a rare break from the bleakness of the internet, a nine-year-old Australian boy has taken centre-stage at a major sporting event after a viral video of him captured hearts across the world.\r\n",
      "Quaden Bayles led out an i… [+1543 chars]\n",
      "\n",
      "Description 2is:\n",
      "Matt Reeves’ ‘The Batman’ that will see Robert Pattinson take on the role of the caped vigilante Batman, will also\n",
      "\n",
      "Content is:\n",
      "None\n",
      "\n",
      "Description 3is:\n",
      "Dance Plus 5 grand finale: Dharmendra, Mithun Chakraborty, Shraddha Kapoor and Guru Randhawa are special guests on the show.\n",
      "\n",
      "Content is:\n",
      "Dance Plus 5 grand finale is called 'Blockbuster finale' for a reason. The finale saw some great performances by the finalists - Janam Crew, Subrato and Sanchita, Deepika and Rupesh Soni and Rupesh Bane.\r\n",
      "The viewers also got entertained by special acts by su… [+749 chars]\n",
      "\n",
      "Description 4is:\n",
      "Actor Aamir Khan has shared a message for his Chinese fans on Weibo, urging them to take precautions and offering condolences to those that have lost loved ones.\n",
      "\n",
      "Content is:\n",
      "Bollywood actor Aamir Khan, who is very popular in China, has expressed concern over the coronavirus outbreak in the country that has claimed over 2,300 lives. He has advised people to take precautions and follow the government's instructions in \"this time of… [+1525 chars]\n",
      "\n",
      "Description 5is:\n",
      "Dabboo Ratnani recently launched the 25th edition of his annual calendar.\n",
      "\n",
      "Content is:\n",
      "Keeping up with the yearly tradition, celebrity photographer Dabboo Ratnani unveiled his annual calendar a few days ago. The photographer, however, has been receiving flak on social media for striking similarities between his Kiara Adavani's photograph and In… [+1031 chars]\n",
      "\n"
     ]
    }
   ],
   "source": [
    "for i in range(0,5):\n",
    "    print(\"Description \"+str(i+1)+\"is:\")\n",
    "    print(data['articles'][i]['description'])\n",
    "    print(\"\\nContent is:\")\n",
    "    print(data['articles'][i]['content'])\n",
    "    print()"
   ]
  },
  {
   "cell_type": "code",
   "execution_count": 9,
   "metadata": {},
   "outputs": [
    {
     "name": "stdout",
     "output_type": "stream",
     "text": [
      "Headline 1is :\n",
      "Disabled bullying victim from heartbreaking viral video leads out all-star rugby team as support floods in - indy100\n",
      "Headline 2is :\n",
      "The Batman: Robert Pattinson’s Batsuit and Zoe Kravitz's Catwoman look leaked online - Times of India\n",
      "Headline 3is :\n",
      "Dance Plus 5 grand finale: Shraddha dances with Mithun, Tiger shakes a leg with Dharmesh - India Today\n",
      "Headline 4is :\n",
      "Aamir Khan urges Chinese fans to take precautions, follow government instructions amid coronavirus outbreak.... - Hindustan Times\n",
      "Headline 5is :\n",
      "Kiara's pic from Dabboo Ratnani calendar gets called out for plagiarism by international photographer - India Today\n",
      "Headline 6is :\n",
      "Ayushmann Khurrana on wife Tahira Kashayp: ‘Love your wife so much that even neighbour’s wife falls... - Hindustan Times\n",
      "Headline 7is :\n",
      "PHOTOS: Kareena Kapoor Khan and Taimur Ali Khan keep it casual yet trendy as they get papped at airport - PINKVILLA\n",
      "Headline 8is :\n",
      "Mira Rajput accompanies hubby Shahid Kapoor on the sets of Jersey; Shares intriguing pics from cricket ground - PINKVILLA\n",
      "Headline 9is :\n",
      "Ayushmann Khurrana on Donald Trump's praise for 'Shubh Mangal Zyada Saavdhan': Was great to see his react - Times of India\n",
      "Headline 10is :\n",
      "Mika Singh's manager Saumya Samy dies of drug overdose: Police - India Today\n",
      "Headline 11is :\n",
      "Raveena Tandon Wishes Husband Anil Thadani Happy 16th Wedding Anniversary with Sweet Social Media Post - News18\n",
      "Headline 12is :\n",
      "Yeh Rishtey Hain Pyaar Ke: Shaheer Sheikh and Rhea Sharma look splendid in BTS pic from their onscreen wedding - PINKVILLA\n",
      "Headline 13is :\n",
      "I have blocked Akanksha from WhatsApp and Mahira is on my speed dail: Paras Chhabrra - Tellychakkar\n",
      "Headline 14is :\n",
      "AR Rahman defends daughter Khatija, says he’d wear burqa too, ‘but a male isn’t supposed to wear on... - Hindustan Times\n",
      "Headline 15is :\n",
      "Mujhse Shaadi Karoge’s Jasleen Matharu hits back at her haters; watch video - Times of India\n",
      "Headline 16is :\n",
      "Mahesh to go with a newcomer instead of Vamshi Paidipally? - Telugu Cinema\n",
      "Headline 17is :\n",
      "Shilpa Shetty was trying for second child for 5 years, decided the name Samisha when she was 21 - Hindustan Times\n",
      "Headline 18is :\n",
      "How Priyanka Chopra Made Sophie Turner's Birthday Extra Special - NDTV News\n",
      "Headline 19is :\n",
      "Disrespectful to Not Consult My Father, Shekhar Kapur About Mr India 2: Sonam Kapoor - News18\n",
      "Headline 20is :\n",
      "The One Where They Reunite: The 'FRIENDS' Reunion is Happening, and Fans Cannot Keep Calm - News18\n"
     ]
    }
   ],
   "source": [
    "for i in range(len(data['articles'])):\n",
    "    print(\"Headline \"+str(i+1)+\"is :\")\n",
    "    print(data['articles'][i]['title'])"
   ]
  },
  {
   "cell_type": "code",
   "execution_count": 10,
   "metadata": {},
   "outputs": [],
   "source": [
    "f=open(\"newsapi.txt\",\"w+\")"
   ]
  },
  {
   "cell_type": "code",
   "execution_count": 14,
   "metadata": {},
   "outputs": [
    {
     "name": "stdout",
     "output_type": "stream",
     "text": [
      "Headline 1is:\n",
      "\n",
      "Description 1is:\n",
      "\n",
      "Content is:\n",
      "\n",
      "Headline 2is:\n",
      "\n",
      "Description 2is:\n",
      "\n",
      "Content is:\n",
      "No content\n"
     ]
    },
    {
     "ename": "TypeError",
     "evalue": "write() argument must be str, not None",
     "output_type": "error",
     "traceback": [
      "\u001b[1;31m---------------------------------------------------------------------------\u001b[0m",
      "\u001b[1;31mTypeError\u001b[0m                                 Traceback (most recent call last)",
      "\u001b[1;32m<ipython-input-14-9ecc85c05841>\u001b[0m in \u001b[0;36m<module>\u001b[1;34m\u001b[0m\n\u001b[0;32m     12\u001b[0m     \u001b[1;32mif\u001b[0m\u001b[1;33m(\u001b[0m\u001b[0mdata\u001b[0m\u001b[1;33m[\u001b[0m\u001b[1;34m'articles'\u001b[0m\u001b[1;33m]\u001b[0m\u001b[1;33m[\u001b[0m\u001b[0mi\u001b[0m\u001b[1;33m]\u001b[0m\u001b[1;33m[\u001b[0m\u001b[1;34m'content'\u001b[0m\u001b[1;33m]\u001b[0m\u001b[1;33m==\u001b[0m\u001b[1;32mNone\u001b[0m\u001b[1;33m)\u001b[0m\u001b[1;33m:\u001b[0m\u001b[1;33m\u001b[0m\u001b[1;33m\u001b[0m\u001b[0m\n\u001b[0;32m     13\u001b[0m         \u001b[0mprint\u001b[0m\u001b[1;33m(\u001b[0m\u001b[1;34m\"No content\"\u001b[0m\u001b[1;33m)\u001b[0m\u001b[1;33m\u001b[0m\u001b[1;33m\u001b[0m\u001b[0m\n\u001b[1;32m---> 14\u001b[1;33m     \u001b[0mf\u001b[0m\u001b[1;33m.\u001b[0m\u001b[0mwrite\u001b[0m\u001b[1;33m(\u001b[0m\u001b[0mdata\u001b[0m\u001b[1;33m[\u001b[0m\u001b[1;34m'articles'\u001b[0m\u001b[1;33m]\u001b[0m\u001b[1;33m[\u001b[0m\u001b[0mi\u001b[0m\u001b[1;33m]\u001b[0m\u001b[1;33m[\u001b[0m\u001b[1;34m'content'\u001b[0m\u001b[1;33m]\u001b[0m\u001b[1;33m)\u001b[0m\u001b[1;33m\u001b[0m\u001b[1;33m\u001b[0m\u001b[0m\n\u001b[0m\u001b[0;32m     15\u001b[0m     \u001b[0mprint\u001b[0m\u001b[1;33m(\u001b[0m\u001b[1;33m)\u001b[0m\u001b[1;33m\u001b[0m\u001b[1;33m\u001b[0m\u001b[0m\n",
      "\u001b[1;31mTypeError\u001b[0m: write() argument must be str, not None"
     ]
    }
   ],
   "source": [
    "f=open(\"newsapi.txt\",\"a+\")\n",
    "for i in range(0,5):\n",
    "    print(\"Headline \"+str(i+1)+\"is:\")\n",
    "    str1=\"Headline \"+str(i+1)+\"is:\\n\"\n",
    "    f.write(str1)\n",
    "    print(\"\\nDescription \"+str(i+1)+\"is:\")\n",
    "    str2=\n",
    "    f.write()\n",
    "    print(\"\\nContent is:\")\n",
    "    if(data['articles'][i]['content']==None):\n",
    "        print(\"No content\")\n",
    "    f.write(data['articles'][i]['content'])\n",
    "    print()"
   ]
  },
  {
   "cell_type": "code",
   "execution_count": null,
   "metadata": {},
   "outputs": [],
   "source": []
  }
 ],
 "metadata": {
  "kernelspec": {
   "display_name": "Python 3",
   "language": "python",
   "name": "python3"
  },
  "language_info": {
   "codemirror_mode": {
    "name": "ipython",
    "version": 3
   },
   "file_extension": ".py",
   "mimetype": "text/x-python",
   "name": "python",
   "nbconvert_exporter": "python",
   "pygments_lexer": "ipython3",
   "version": "3.7.3"
  }
 },
 "nbformat": 4,
 "nbformat_minor": 2
}
